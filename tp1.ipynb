{
 "cells": [
  {
   "attachments": {},
   "cell_type": "markdown",
   "metadata": {},
   "source": [
    "# Trabalho Prático 1"
   ]
  },
  {
   "cell_type": "code",
   "execution_count": 8,
   "metadata": {},
   "outputs": [],
   "source": [
    "# pacotes\n",
    "import io\n",
    "import sqlite3\n",
    "import pandas as pd"
   ]
  },
  {
   "cell_type": "code",
   "execution_count": 9,
   "metadata": {},
   "outputs": [
    {
     "ename": "IntegrityError",
     "evalue": "UNIQUE constraint failed: Especies.nome",
     "output_type": "error",
     "traceback": [
      "\u001b[1;31m---------------------------------------------------------------------------\u001b[0m",
      "\u001b[1;31mIntegrityError\u001b[0m                            Traceback (most recent call last)",
      "Cell \u001b[1;32mIn[9], line 7\u001b[0m\n\u001b[0;32m      5\u001b[0m f \u001b[39m=\u001b[39m io\u001b[39m.\u001b[39mopen(\u001b[39m'\u001b[39m\u001b[39mdatabase.sql\u001b[39m\u001b[39m'\u001b[39m, \u001b[39m'\u001b[39m\u001b[39mr\u001b[39m\u001b[39m'\u001b[39m, encoding\u001b[39m=\u001b[39m\u001b[39m'\u001b[39m\u001b[39mutf-8\u001b[39m\u001b[39m'\u001b[39m)\n\u001b[0;32m      6\u001b[0m sql \u001b[39m=\u001b[39m f\u001b[39m.\u001b[39mread()\n\u001b[1;32m----> 7\u001b[0m cursor\u001b[39m.\u001b[39;49mexecutescript(sql)\n",
      "\u001b[1;31mIntegrityError\u001b[0m: UNIQUE constraint failed: Especies.nome"
     ]
    }
   ],
   "source": [
    "# Conexão e leitura BD\n",
    "conn = sqlite3.connect('SQLite_Python.db')\n",
    "cursor = conn.cursor()\n",
    "\n",
    "f = io.open('database.sql', 'r', encoding='utf-8')\n",
    "sql = f.read()\n",
    "cursor.executescript(sql)"
   ]
  },
  {
   "cell_type": "code",
   "execution_count": 4,
   "metadata": {},
   "outputs": [
    {
     "data": {
      "text/html": [
       "<div>\n",
       "<style scoped>\n",
       "    .dataframe tbody tr th:only-of-type {\n",
       "        vertical-align: middle;\n",
       "    }\n",
       "\n",
       "    .dataframe tbody tr th {\n",
       "        vertical-align: top;\n",
       "    }\n",
       "\n",
       "    .dataframe thead th {\n",
       "        text-align: right;\n",
       "    }\n",
       "</style>\n",
       "<table border=\"1\" class=\"dataframe\">\n",
       "  <thead>\n",
       "    <tr style=\"text-align: right;\">\n",
       "      <th></th>\n",
       "      <th>nome</th>\n",
       "      <th>periodo_rotacao</th>\n",
       "      <th>diametro</th>\n",
       "      <th>clima</th>\n",
       "      <th>gravidade</th>\n",
       "      <th>populacao</th>\n",
       "      <th>sois</th>\n",
       "      <th>luas</th>\n",
       "      <th>classe</th>\n",
       "    </tr>\n",
       "  </thead>\n",
       "  <tbody>\n",
       "    <tr>\n",
       "      <th>0</th>\n",
       "      <td>Alderaan</td>\n",
       "      <td>24</td>\n",
       "      <td>12500</td>\n",
       "      <td>temperado</td>\n",
       "      <td>1.0</td>\n",
       "      <td>2000000000</td>\n",
       "      <td>1</td>\n",
       "      <td>1</td>\n",
       "      <td>terrestre</td>\n",
       "    </tr>\n",
       "    <tr>\n",
       "      <th>1</th>\n",
       "      <td>Yavin IV</td>\n",
       "      <td>24</td>\n",
       "      <td>10200</td>\n",
       "      <td>tropical</td>\n",
       "      <td>1.0</td>\n",
       "      <td>1000</td>\n",
       "      <td>1</td>\n",
       "      <td>0</td>\n",
       "      <td>lua</td>\n",
       "    </tr>\n",
       "    <tr>\n",
       "      <th>2</th>\n",
       "      <td>Hoth</td>\n",
       "      <td>23</td>\n",
       "      <td>7200</td>\n",
       "      <td>congelado</td>\n",
       "      <td>1.1</td>\n",
       "      <td>10</td>\n",
       "      <td>1</td>\n",
       "      <td>3</td>\n",
       "      <td>terrestre</td>\n",
       "    </tr>\n",
       "    <tr>\n",
       "      <th>3</th>\n",
       "      <td>Dagobah</td>\n",
       "      <td>23</td>\n",
       "      <td>8900</td>\n",
       "      <td>sombrio</td>\n",
       "      <td>1.0</td>\n",
       "      <td>0</td>\n",
       "      <td>1</td>\n",
       "      <td>1</td>\n",
       "      <td>terrestre</td>\n",
       "    </tr>\n",
       "    <tr>\n",
       "      <th>4</th>\n",
       "      <td>Bespin</td>\n",
       "      <td>12</td>\n",
       "      <td>118000</td>\n",
       "      <td>temperado</td>\n",
       "      <td>1.0</td>\n",
       "      <td>3600000000</td>\n",
       "      <td>1</td>\n",
       "      <td>3</td>\n",
       "      <td>gigante gasoso</td>\n",
       "    </tr>\n",
       "    <tr>\n",
       "      <th>...</th>\n",
       "      <td>...</td>\n",
       "      <td>...</td>\n",
       "      <td>...</td>\n",
       "      <td>...</td>\n",
       "      <td>...</td>\n",
       "      <td>...</td>\n",
       "      <td>...</td>\n",
       "      <td>...</td>\n",
       "      <td>...</td>\n",
       "    </tr>\n",
       "    <tr>\n",
       "      <th>67</th>\n",
       "      <td>Charros IV</td>\n",
       "      <td>31</td>\n",
       "      <td>10098</td>\n",
       "      <td>arido</td>\n",
       "      <td>1.0</td>\n",
       "      <td>250000000</td>\n",
       "      <td>1</td>\n",
       "      <td>4</td>\n",
       "      <td>terrestre</td>\n",
       "    </tr>\n",
       "    <tr>\n",
       "      <th>68</th>\n",
       "      <td>Nubia</td>\n",
       "      <td>29</td>\n",
       "      <td>10490</td>\n",
       "      <td>temperado</td>\n",
       "      <td>1.0</td>\n",
       "      <td>1200000000</td>\n",
       "      <td>1</td>\n",
       "      <td>1</td>\n",
       "      <td>terrestre</td>\n",
       "    </tr>\n",
       "    <tr>\n",
       "      <th>69</th>\n",
       "      <td>Halowan</td>\n",
       "      <td>26</td>\n",
       "      <td>6700</td>\n",
       "      <td>arido</td>\n",
       "      <td>0.7</td>\n",
       "      <td>360000</td>\n",
       "      <td>1</td>\n",
       "      <td>2</td>\n",
       "      <td>terrestre</td>\n",
       "    </tr>\n",
       "    <tr>\n",
       "      <th>70</th>\n",
       "      <td>Skako Menor</td>\n",
       "      <td>41</td>\n",
       "      <td>8900</td>\n",
       "      <td>temperado</td>\n",
       "      <td>2.0</td>\n",
       "      <td>400000000</td>\n",
       "      <td>2</td>\n",
       "      <td>3</td>\n",
       "      <td>terrestre</td>\n",
       "    </tr>\n",
       "    <tr>\n",
       "      <th>71</th>\n",
       "      <td>Thyferra</td>\n",
       "      <td>21</td>\n",
       "      <td>10221</td>\n",
       "      <td>tropical</td>\n",
       "      <td>1.0</td>\n",
       "      <td>117000000</td>\n",
       "      <td>1</td>\n",
       "      <td>2</td>\n",
       "      <td>terrestre</td>\n",
       "    </tr>\n",
       "  </tbody>\n",
       "</table>\n",
       "<p>72 rows × 9 columns</p>\n",
       "</div>"
      ],
      "text/plain": [
       "           nome  periodo_rotacao  diametro      clima  gravidade   populacao   \n",
       "0      Alderaan               24     12500  temperado        1.0  2000000000  \\\n",
       "1      Yavin IV               24     10200   tropical        1.0        1000   \n",
       "2          Hoth               23      7200  congelado        1.1          10   \n",
       "3       Dagobah               23      8900    sombrio        1.0           0   \n",
       "4        Bespin               12    118000  temperado        1.0  3600000000   \n",
       "..          ...              ...       ...        ...        ...         ...   \n",
       "67   Charros IV               31     10098      arido        1.0   250000000   \n",
       "68        Nubia               29     10490  temperado        1.0  1200000000   \n",
       "69      Halowan               26      6700      arido        0.7      360000   \n",
       "70  Skako Menor               41      8900  temperado        2.0   400000000   \n",
       "71     Thyferra               21     10221   tropical        1.0   117000000   \n",
       "\n",
       "    sois  luas          classe  \n",
       "0      1     1       terrestre  \n",
       "1      1     0             lua  \n",
       "2      1     3       terrestre  \n",
       "3      1     1       terrestre  \n",
       "4      1     3  gigante gasoso  \n",
       "..   ...   ...             ...  \n",
       "67     1     4       terrestre  \n",
       "68     1     1       terrestre  \n",
       "69     1     2       terrestre  \n",
       "70     2     3       terrestre  \n",
       "71     1     2       terrestre  \n",
       "\n",
       "[72 rows x 9 columns]"
      ]
     },
     "execution_count": 4,
     "metadata": {},
     "output_type": "execute_result"
    }
   ],
   "source": [
    "# Verificando conexão e db\n",
    "\n",
    "query = \"\"\"\n",
    "SELECT * \n",
    "FROM Planetas\n",
    "\"\"\"\n",
    "\n",
    "df = pd.read_sql_query(query, conn)\n",
    "df"
   ]
  },
  {
   "attachments": {},
   "cell_type": "markdown",
   "metadata": {},
   "source": [
    "### Consultas de álgebra relacional"
   ]
  },
  {
   "attachments": {},
   "cell_type": "markdown",
   "metadata": {},
   "source": [
    "#### A0.πnome σplaneta =’Tatooine’ (Personagens)"
   ]
  },
  {
   "cell_type": "code",
   "execution_count": 5,
   "metadata": {},
   "outputs": [
    {
     "data": {
      "text/html": [
       "<div>\n",
       "<style scoped>\n",
       "    .dataframe tbody tr th:only-of-type {\n",
       "        vertical-align: middle;\n",
       "    }\n",
       "\n",
       "    .dataframe tbody tr th {\n",
       "        vertical-align: top;\n",
       "    }\n",
       "\n",
       "    .dataframe thead th {\n",
       "        text-align: right;\n",
       "    }\n",
       "</style>\n",
       "<table border=\"1\" class=\"dataframe\">\n",
       "  <thead>\n",
       "    <tr style=\"text-align: right;\">\n",
       "      <th></th>\n",
       "      <th>nome</th>\n",
       "    </tr>\n",
       "  </thead>\n",
       "  <tbody>\n",
       "    <tr>\n",
       "      <th>0</th>\n",
       "      <td>Luke Skywalker</td>\n",
       "    </tr>\n",
       "    <tr>\n",
       "      <th>1</th>\n",
       "      <td>C-3PO</td>\n",
       "    </tr>\n",
       "    <tr>\n",
       "      <th>2</th>\n",
       "      <td>Darth Vader</td>\n",
       "    </tr>\n",
       "    <tr>\n",
       "      <th>3</th>\n",
       "      <td>Owen Lars</td>\n",
       "    </tr>\n",
       "    <tr>\n",
       "      <th>4</th>\n",
       "      <td>Beru Whitesun lars</td>\n",
       "    </tr>\n",
       "    <tr>\n",
       "      <th>5</th>\n",
       "      <td>R5-D4</td>\n",
       "    </tr>\n",
       "    <tr>\n",
       "      <th>6</th>\n",
       "      <td>Biggs Darklighter</td>\n",
       "    </tr>\n",
       "    <tr>\n",
       "      <th>7</th>\n",
       "      <td>Anakin Skywalker</td>\n",
       "    </tr>\n",
       "    <tr>\n",
       "      <th>8</th>\n",
       "      <td>Shmi Skywalker</td>\n",
       "    </tr>\n",
       "    <tr>\n",
       "      <th>9</th>\n",
       "      <td>Cliegg Lars</td>\n",
       "    </tr>\n",
       "  </tbody>\n",
       "</table>\n",
       "</div>"
      ],
      "text/plain": [
       "                 nome\n",
       "0      Luke Skywalker\n",
       "1               C-3PO\n",
       "2         Darth Vader\n",
       "3           Owen Lars\n",
       "4  Beru Whitesun lars\n",
       "5               R5-D4\n",
       "6   Biggs Darklighter\n",
       "7    Anakin Skywalker\n",
       "8      Shmi Skywalker\n",
       "9         Cliegg Lars"
      ]
     },
     "execution_count": 5,
     "metadata": {},
     "output_type": "execute_result"
    }
   ],
   "source": [
    "query = \"\"\"\n",
    "SELECT nome\n",
    "FROM Personagens\n",
    "WHERE planeta =\"Tatooine\"\n",
    "\"\"\"\n",
    "\n",
    "df = pd.read_sql_query(query, conn)\n",
    "df"
   ]
  },
  {
   "attachments": {},
   "cell_type": "markdown",
   "metadata": {},
   "source": [
    "#### A1.πnome_nave σcusto em creditos<500000 ∧ planeta=’Naboo’ (Naves ⋊⋉ Fabricantes)"
   ]
  },
  {
   "cell_type": "code",
   "execution_count": 17,
   "metadata": {},
   "outputs": [
    {
     "data": {
      "text/html": [
       "<div>\n",
       "<style scoped>\n",
       "    .dataframe tbody tr th:only-of-type {\n",
       "        vertical-align: middle;\n",
       "    }\n",
       "\n",
       "    .dataframe tbody tr th {\n",
       "        vertical-align: top;\n",
       "    }\n",
       "\n",
       "    .dataframe thead th {\n",
       "        text-align: right;\n",
       "    }\n",
       "</style>\n",
       "<table border=\"1\" class=\"dataframe\">\n",
       "  <thead>\n",
       "    <tr style=\"text-align: right;\">\n",
       "      <th></th>\n",
       "      <th>nome</th>\n",
       "    </tr>\n",
       "  </thead>\n",
       "  <tbody>\n",
       "    <tr>\n",
       "      <th>0</th>\n",
       "      <td>Naboo fighter</td>\n",
       "    </tr>\n",
       "    <tr>\n",
       "      <th>1</th>\n",
       "      <td>Rebel transport</td>\n",
       "    </tr>\n",
       "  </tbody>\n",
       "</table>\n",
       "</div>"
      ],
      "text/plain": [
       "              nome\n",
       "0    Naboo fighter\n",
       "1  Rebel transport"
      ]
     },
     "execution_count": 17,
     "metadata": {},
     "output_type": "execute_result"
    }
   ],
   "source": [
    "query = \"\"\"\n",
    "SELECT N.nome\n",
    "FROM Naves N JOIN Fabricantes F ON N.fabricante=F.nome\n",
    "WHERE F.planeta =\"Naboo\" AND N.custo_em_creditos < 500000\n",
    "\"\"\"\n",
    "\n",
    "df = pd.read_sql_query(query, conn)\n",
    "df"
   ]
  },
  {
   "attachments": {},
   "cell_type": "markdown",
   "metadata": {},
   "source": [
    "#### A2.πnome especie σclassificacao=’reptiliano’ ∧ (clima = ’Arido’ ∨ clima = ’Umido’) (Especies ⋊⋉ Planetas)\n"
   ]
  },
  {
   "cell_type": "code",
   "execution_count": 13,
   "metadata": {},
   "outputs": [
    {
     "data": {
      "text/html": [
       "<div>\n",
       "<style scoped>\n",
       "    .dataframe tbody tr th:only-of-type {\n",
       "        vertical-align: middle;\n",
       "    }\n",
       "\n",
       "    .dataframe tbody tr th {\n",
       "        vertical-align: top;\n",
       "    }\n",
       "\n",
       "    .dataframe thead th {\n",
       "        text-align: right;\n",
       "    }\n",
       "</style>\n",
       "<table border=\"1\" class=\"dataframe\">\n",
       "  <thead>\n",
       "    <tr style=\"text-align: right;\">\n",
       "      <th></th>\n",
       "      <th>nome</th>\n",
       "    </tr>\n",
       "  </thead>\n",
       "  <tbody>\n",
       "    <tr>\n",
       "      <th>0</th>\n",
       "      <td>Trandoshano</td>\n",
       "    </tr>\n",
       "    <tr>\n",
       "      <th>1</th>\n",
       "      <td>Neimoidiano</td>\n",
       "    </tr>\n",
       "  </tbody>\n",
       "</table>\n",
       "</div>"
      ],
      "text/plain": [
       "          nome\n",
       "0  Trandoshano\n",
       "1  Neimoidiano"
      ]
     },
     "execution_count": 13,
     "metadata": {},
     "output_type": "execute_result"
    }
   ],
   "source": [
    "query = \"\"\"\n",
    "SELECT E.nome\n",
    "FROM Especies E JOIN Planetas P ON E.planeta = P.nome\n",
    "WHERE (E.classificacao =\"reptiliano\") AND (P.clima = \"arido\" OR P.clima = \"umido\")\n",
    "\"\"\"\n",
    "\n",
    "df = pd.read_sql_query(query, conn)\n",
    "df"
   ]
  },
  {
   "attachments": {},
   "cell_type": "markdown",
   "metadata": {},
   "source": [
    "#### A3.πnome planeta σproduto = ’ambos’ (Planetas ⋊⋉ Fabricantes)"
   ]
  },
  {
   "cell_type": "code",
   "execution_count": 14,
   "metadata": {},
   "outputs": [
    {
     "data": {
      "text/html": [
       "<div>\n",
       "<style scoped>\n",
       "    .dataframe tbody tr th:only-of-type {\n",
       "        vertical-align: middle;\n",
       "    }\n",
       "\n",
       "    .dataframe tbody tr th {\n",
       "        vertical-align: top;\n",
       "    }\n",
       "\n",
       "    .dataframe thead th {\n",
       "        text-align: right;\n",
       "    }\n",
       "</style>\n",
       "<table border=\"1\" class=\"dataframe\">\n",
       "  <thead>\n",
       "    <tr style=\"text-align: right;\">\n",
       "      <th></th>\n",
       "      <th>nome</th>\n",
       "    </tr>\n",
       "  </thead>\n",
       "  <tbody>\n",
       "    <tr>\n",
       "      <th>0</th>\n",
       "      <td>Geonosis</td>\n",
       "    </tr>\n",
       "    <tr>\n",
       "      <th>1</th>\n",
       "      <td>Fresia</td>\n",
       "    </tr>\n",
       "    <tr>\n",
       "      <th>2</th>\n",
       "      <td>Kuat</td>\n",
       "    </tr>\n",
       "    <tr>\n",
       "      <th>3</th>\n",
       "      <td>Rothana</td>\n",
       "    </tr>\n",
       "    <tr>\n",
       "      <th>4</th>\n",
       "      <td>Lianna</td>\n",
       "    </tr>\n",
       "  </tbody>\n",
       "</table>\n",
       "</div>"
      ],
      "text/plain": [
       "       nome\n",
       "0  Geonosis\n",
       "1    Fresia\n",
       "2      Kuat\n",
       "3   Rothana\n",
       "4    Lianna"
      ]
     },
     "execution_count": 14,
     "metadata": {},
     "output_type": "execute_result"
    }
   ],
   "source": [
    "query = \"\"\"\n",
    "SELECT P.nome\n",
    "FROM Planetas P JOIN Fabricantes F ON P.nome = F.planeta\n",
    "WHERE produto = \"ambos\"\n",
    "\"\"\"\n",
    "\n",
    "df = pd.read_sql_query(query, conn)\n",
    "df"
   ]
  },
  {
   "attachments": {},
   "cell_type": "markdown",
   "metadata": {},
   "source": [
    "#### A9.πnome,sois,luas σsois>luas ∧ luas>0 (Planetas)"
   ]
  },
  {
   "cell_type": "code",
   "execution_count": 8,
   "metadata": {},
   "outputs": [
    {
     "data": {
      "text/html": [
       "<div>\n",
       "<style scoped>\n",
       "    .dataframe tbody tr th:only-of-type {\n",
       "        vertical-align: middle;\n",
       "    }\n",
       "\n",
       "    .dataframe tbody tr th {\n",
       "        vertical-align: top;\n",
       "    }\n",
       "\n",
       "    .dataframe thead th {\n",
       "        text-align: right;\n",
       "    }\n",
       "</style>\n",
       "<table border=\"1\" class=\"dataframe\">\n",
       "  <thead>\n",
       "    <tr style=\"text-align: right;\">\n",
       "      <th></th>\n",
       "      <th>nome</th>\n",
       "      <th>sois</th>\n",
       "      <th>luas</th>\n",
       "    </tr>\n",
       "  </thead>\n",
       "  <tbody>\n",
       "    <tr>\n",
       "      <th>0</th>\n",
       "      <td>Mon Cala</td>\n",
       "      <td>2</td>\n",
       "      <td>1</td>\n",
       "    </tr>\n",
       "    <tr>\n",
       "      <th>1</th>\n",
       "      <td>Toydaria</td>\n",
       "      <td>2</td>\n",
       "      <td>1</td>\n",
       "    </tr>\n",
       "    <tr>\n",
       "      <th>2</th>\n",
       "      <td>Cerea</td>\n",
       "      <td>3</td>\n",
       "      <td>1</td>\n",
       "    </tr>\n",
       "    <tr>\n",
       "      <th>3</th>\n",
       "      <td>Dac</td>\n",
       "      <td>2</td>\n",
       "      <td>1</td>\n",
       "    </tr>\n",
       "  </tbody>\n",
       "</table>\n",
       "</div>"
      ],
      "text/plain": [
       "       nome  sois  luas\n",
       "0  Mon Cala     2     1\n",
       "1  Toydaria     2     1\n",
       "2     Cerea     3     1\n",
       "3       Dac     2     1"
      ]
     },
     "execution_count": 8,
     "metadata": {},
     "output_type": "execute_result"
    }
   ],
   "source": [
    "query = \"\"\"\n",
    "SELECT nome, sois, luas\n",
    "FROM Planetas\n",
    "WHERE sois > luas AND luas > 0\n",
    "\"\"\"\n",
    "\n",
    "df = pd.read_sql_query(query, conn)\n",
    "df"
   ]
  },
  {
   "attachments": {},
   "cell_type": "markdown",
   "metadata": {},
   "source": [
    "### Consultas de linguagem natural"
   ]
  },
  {
   "attachments": {},
   "cell_type": "markdown",
   "metadata": {},
   "source": [
    "#### B0. Liste (1) o nome dos personagens, (2) seu planeta de origem e (3) o planeta de sua esp ́ecie para os personagens n ̃ao humanos que nasceram em um planeta diferente do planeta de origem de sua esp ́ecie."
   ]
  },
  {
   "cell_type": "code",
   "execution_count": 20,
   "metadata": {},
   "outputs": [
    {
     "data": {
      "text/html": [
       "<div>\n",
       "<style scoped>\n",
       "    .dataframe tbody tr th:only-of-type {\n",
       "        vertical-align: middle;\n",
       "    }\n",
       "\n",
       "    .dataframe tbody tr th {\n",
       "        vertical-align: top;\n",
       "    }\n",
       "\n",
       "    .dataframe thead th {\n",
       "        text-align: right;\n",
       "    }\n",
       "</style>\n",
       "<table border=\"1\" class=\"dataframe\">\n",
       "  <thead>\n",
       "    <tr style=\"text-align: right;\">\n",
       "      <th></th>\n",
       "      <th>nome</th>\n",
       "      <th>planeta_origem_personagem</th>\n",
       "      <th>planeta_origem_especie</th>\n",
       "      <th>especie</th>\n",
       "    </tr>\n",
       "  </thead>\n",
       "  <tbody>\n",
       "    <tr>\n",
       "      <th>0</th>\n",
       "      <td>C-3PO</td>\n",
       "      <td>Tatooine</td>\n",
       "      <td>Coruscant</td>\n",
       "      <td>Droide</td>\n",
       "    </tr>\n",
       "    <tr>\n",
       "      <th>1</th>\n",
       "      <td>R2-D2</td>\n",
       "      <td>Naboo</td>\n",
       "      <td>Coruscant</td>\n",
       "      <td>Droide</td>\n",
       "    </tr>\n",
       "    <tr>\n",
       "      <th>2</th>\n",
       "      <td>R5-D4</td>\n",
       "      <td>Tatooine</td>\n",
       "      <td>Coruscant</td>\n",
       "      <td>Droide</td>\n",
       "    </tr>\n",
       "    <tr>\n",
       "      <th>3</th>\n",
       "      <td>IG-88</td>\n",
       "      <td>Halowan</td>\n",
       "      <td>Coruscant</td>\n",
       "      <td>Droide</td>\n",
       "    </tr>\n",
       "    <tr>\n",
       "      <th>4</th>\n",
       "      <td>Darth Maul</td>\n",
       "      <td>Dathomir</td>\n",
       "      <td>Iridonia</td>\n",
       "      <td>Zabrak</td>\n",
       "    </tr>\n",
       "    <tr>\n",
       "      <th>5</th>\n",
       "      <td>Adi Gallia</td>\n",
       "      <td>Coruscant</td>\n",
       "      <td>Tholoth</td>\n",
       "      <td>Tholothiano</td>\n",
       "    </tr>\n",
       "    <tr>\n",
       "      <th>6</th>\n",
       "      <td>R4-P17</td>\n",
       "      <td>Nubia</td>\n",
       "      <td>Coruscant</td>\n",
       "      <td>Droide</td>\n",
       "    </tr>\n",
       "  </tbody>\n",
       "</table>\n",
       "</div>"
      ],
      "text/plain": [
       "         nome planeta_origem_personagem planeta_origem_especie      especie\n",
       "0       C-3PO                  Tatooine              Coruscant       Droide\n",
       "1       R2-D2                     Naboo              Coruscant       Droide\n",
       "2       R5-D4                  Tatooine              Coruscant       Droide\n",
       "3       IG-88                   Halowan              Coruscant       Droide\n",
       "4  Darth Maul                  Dathomir               Iridonia       Zabrak\n",
       "5  Adi Gallia                 Coruscant                Tholoth  Tholothiano\n",
       "6      R4-P17                     Nubia              Coruscant       Droide"
      ]
     },
     "execution_count": 20,
     "metadata": {},
     "output_type": "execute_result"
    }
   ],
   "source": [
    "query = \"\"\"\n",
    "SELECT P.nome, P.planeta as planeta_origem_personagem, E.planeta as planeta_origem_especie\n",
    "FROM Personagens P JOIN Especies E ON P.especie = E.nome\n",
    "WHERE P.especie IS NOT \"Humano\" AND E.planeta IS NOT P.planeta\n",
    "\"\"\"\n",
    "\n",
    "df = pd.read_sql_query(query, conn)\n",
    "df"
   ]
  },
  {
   "attachments": {},
   "cell_type": "markdown",
   "metadata": {},
   "source": [
    "#### B2. Liste (1) o nome do fabricante, (2) a quantidade de naves e (3) a quantidade de veÍculos produzidos por cada fabricante que produza ambos os tipos de produtos\n"
   ]
  },
  {
   "cell_type": "code",
   "execution_count": null,
   "metadata": {},
   "outputs": [],
   "source": []
  },
  {
   "attachments": {},
   "cell_type": "markdown",
   "metadata": {},
   "source": [
    "#### B3. Liste (1) o nome do personagem e (2) a altura dos personagens mais altos de cada esp ́ecie, ordenados em ordem crescente por altura.\n"
   ]
  },
  {
   "cell_type": "code",
   "execution_count": null,
   "metadata": {},
   "outputs": [],
   "source": []
  },
  {
   "attachments": {},
   "cell_type": "markdown",
   "metadata": {},
   "source": [
    "#### B4. Liste (1) o nome do planeta e (2) a quantidade de personagens que nasceram nele para o planeta com o maior n ́umero de personagens."
   ]
  },
  {
   "cell_type": "code",
   "execution_count": null,
   "metadata": {},
   "outputs": [],
   "source": []
  },
  {
   "attachments": {},
   "cell_type": "markdown",
   "metadata": {},
   "source": [
    "#### B7. Liste (1) o nome dos fabricantes que produzem mais naves do que ve ́ıculos e (2) a quantidade de naves e (3) a quantidade de ve ́ıculos produzidos por cada um."
   ]
  },
  {
   "cell_type": "code",
   "execution_count": null,
   "metadata": {},
   "outputs": [],
   "source": []
  }
 ],
 "metadata": {
  "kernelspec": {
   "display_name": "venv",
   "language": "python",
   "name": "python3"
  },
  "language_info": {
   "codemirror_mode": {
    "name": "ipython",
    "version": 3
   },
   "file_extension": ".py",
   "mimetype": "text/x-python",
   "name": "python",
   "nbconvert_exporter": "python",
   "pygments_lexer": "ipython3",
   "version": "3.11.3"
  },
  "orig_nbformat": 4
 },
 "nbformat": 4,
 "nbformat_minor": 2
}
